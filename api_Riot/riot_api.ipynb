{
 "cells": [
  {
   "cell_type": "code",
   "execution_count": 11,
   "metadata": {},
   "outputs": [],
   "source": [
    "from riotwatcher import LolWatcher, TftWatcher, RiotWatcher, ApiError\n",
    "import pandas as pd\n",
    "import requests\n",
    "import json"
   ]
  },
  {
   "cell_type": "code",
   "execution_count": 12,
   "metadata": {},
   "outputs": [],
   "source": [
    "api_key = \"RGAPI-0d8ea96d-4dbb-4751-b272-4172e52ed622\""
   ]
  },
  {
   "cell_type": "code",
   "execution_count": 13,
   "metadata": {},
   "outputs": [],
   "source": [
    "lol_watcher = LolWatcher(api_key)\n",
    "tft_watcher = TftWatcher(api_key)\n",
    "riot_watcher = RiotWatcher(api_key)\n",
    "region = input('your region: ')\n",
    "rg = input('your region: ')\n",
    "gameName = input('your gameName: ')\n",
    "tagLine = input('your tagLine: ')"
   ]
  },
  {
   "cell_type": "markdown",
   "metadata": {},
   "source": [
    "league of legends"
   ]
  },
  {
   "cell_type": "code",
   "execution_count": 14,
   "metadata": {},
   "outputs": [
    {
     "name": "stdout",
     "output_type": "stream",
     "text": [
      "TOP MỘT\n",
      "8\n"
     ]
    }
   ],
   "source": [
    "account = riot_watcher.account.by_riot_id(rg, gameName, tagLine)\n",
    "\"\"\" by_riot_id(region, name, tag) \n",
    "region: AMERICAS, ASIA, EUROPE, SEA\n",
    "name: name of the player\n",
    "tag: tag of the player\n",
    "\"\"\"\n",
    "# print(account) => puuid; gameName; tagLine\n",
    "print(account[\"gameName\"])\n",
    "player_lol = lol_watcher.summoner.by_puuid(region, account[\"puuid\"])\n",
    "# print(player) => puuid; accountId; name; profileIconId; revisionDate; summonerLevel\n",
    "print(player_lol[\"summonerLevel\"])"
   ]
  },
  {
   "cell_type": "code",
   "execution_count": 15,
   "metadata": {
    "vscode": {
     "languageId": "ruby"
    }
   },
   "outputs": [
    {
     "ename": "IndexError",
     "evalue": "list index out of range",
     "output_type": "error",
     "traceback": [
      "\u001b[1;31m---------------------------------------------------------------------------\u001b[0m",
      "\u001b[1;31mIndexError\u001b[0m                                Traceback (most recent call last)",
      "Cell \u001b[1;32mIn[15], line 6\u001b[0m\n\u001b[0;32m      4\u001b[0m     \u001b[38;5;28mprint\u001b[39m(rank_lol[\u001b[38;5;241m1\u001b[39m][\u001b[38;5;124m\"\u001b[39m\u001b[38;5;124mqueueType\u001b[39m\u001b[38;5;124m\"\u001b[39m] \u001b[38;5;241m+\u001b[39m \u001b[38;5;124m\"\u001b[39m\u001b[38;5;130;01m\\n\u001b[39;00m\u001b[38;5;124m\"\u001b[39m  \u001b[38;5;241m+\u001b[39m rank_lol[\u001b[38;5;241m1\u001b[39m][\u001b[38;5;124m\"\u001b[39m\u001b[38;5;124mtier\u001b[39m\u001b[38;5;124m\"\u001b[39m] \u001b[38;5;241m+\u001b[39m \u001b[38;5;124m\"\u001b[39m\u001b[38;5;124m \u001b[39m\u001b[38;5;124m\"\u001b[39m \u001b[38;5;241m+\u001b[39m rank_lol[\u001b[38;5;241m1\u001b[39m][\u001b[38;5;124m\"\u001b[39m\u001b[38;5;124mrank\u001b[39m\u001b[38;5;124m\"\u001b[39m] \u001b[38;5;241m+\u001b[39m \u001b[38;5;124m\"\u001b[39m\u001b[38;5;130;01m\\n\u001b[39;00m\u001b[38;5;124m\"\u001b[39m \u001b[38;5;241m+\u001b[39m \u001b[38;5;28mstr\u001b[39m(rank_lol[\u001b[38;5;241m1\u001b[39m][\u001b[38;5;124m\"\u001b[39m\u001b[38;5;124mleaguePoints\u001b[39m\u001b[38;5;124m\"\u001b[39m]) \u001b[38;5;241m+\u001b[39m \u001b[38;5;124m\"\u001b[39m\u001b[38;5;124mLP\u001b[39m\u001b[38;5;124m\"\u001b[39m \u001b[38;5;241m+\u001b[39m \u001b[38;5;124m\"\u001b[39m\u001b[38;5;130;01m\\n\u001b[39;00m\u001b[38;5;124m\"\u001b[39m \u001b[38;5;241m+\u001b[39m \u001b[38;5;28mstr\u001b[39m(rank_lol[\u001b[38;5;241m1\u001b[39m][\u001b[38;5;124m\"\u001b[39m\u001b[38;5;124mwins\u001b[39m\u001b[38;5;124m\"\u001b[39m]) \u001b[38;5;241m+\u001b[39m \u001b[38;5;124m\"\u001b[39m\u001b[38;5;124mW \u001b[39m\u001b[38;5;124m\"\u001b[39m \u001b[38;5;241m+\u001b[39m \u001b[38;5;28mstr\u001b[39m(rank_lol[\u001b[38;5;241m1\u001b[39m][\u001b[38;5;124m\"\u001b[39m\u001b[38;5;124mlosses\u001b[39m\u001b[38;5;124m\"\u001b[39m]) \u001b[38;5;241m+\u001b[39m \u001b[38;5;124m\"\u001b[39m\u001b[38;5;124mL\u001b[39m\u001b[38;5;124m\"\u001b[39m)\n\u001b[0;32m      5\u001b[0m \u001b[38;5;28;01melse\u001b[39;00m:\n\u001b[1;32m----> 6\u001b[0m     \u001b[38;5;28mprint\u001b[39m(\u001b[43mrank_lol\u001b[49m\u001b[43m[\u001b[49m\u001b[38;5;241;43m0\u001b[39;49m\u001b[43m]\u001b[49m[\u001b[38;5;124m\"\u001b[39m\u001b[38;5;124mqueueType\u001b[39m\u001b[38;5;124m\"\u001b[39m] \u001b[38;5;241m+\u001b[39m \u001b[38;5;124m\"\u001b[39m\u001b[38;5;130;01m\\n\u001b[39;00m\u001b[38;5;124m\"\u001b[39m  \u001b[38;5;241m+\u001b[39m rank_lol[\u001b[38;5;241m0\u001b[39m][\u001b[38;5;124m\"\u001b[39m\u001b[38;5;124mtier\u001b[39m\u001b[38;5;124m\"\u001b[39m] \u001b[38;5;241m+\u001b[39m \u001b[38;5;124m\"\u001b[39m\u001b[38;5;124m \u001b[39m\u001b[38;5;124m\"\u001b[39m \u001b[38;5;241m+\u001b[39m rank_lol[\u001b[38;5;241m0\u001b[39m][\u001b[38;5;124m\"\u001b[39m\u001b[38;5;124mrank\u001b[39m\u001b[38;5;124m\"\u001b[39m] \u001b[38;5;241m+\u001b[39m \u001b[38;5;124m\"\u001b[39m\u001b[38;5;130;01m\\n\u001b[39;00m\u001b[38;5;124m\"\u001b[39m \u001b[38;5;241m+\u001b[39m \u001b[38;5;28mstr\u001b[39m(rank_lol[\u001b[38;5;241m0\u001b[39m][\u001b[38;5;124m\"\u001b[39m\u001b[38;5;124mleaguePoints\u001b[39m\u001b[38;5;124m\"\u001b[39m]) \u001b[38;5;241m+\u001b[39m \u001b[38;5;124m\"\u001b[39m\u001b[38;5;124mLP\u001b[39m\u001b[38;5;124m\"\u001b[39m \u001b[38;5;241m+\u001b[39m \u001b[38;5;124m\"\u001b[39m\u001b[38;5;130;01m\\n\u001b[39;00m\u001b[38;5;124m\"\u001b[39m \u001b[38;5;241m+\u001b[39m \u001b[38;5;28mstr\u001b[39m(rank_lol[\u001b[38;5;241m0\u001b[39m][\u001b[38;5;124m\"\u001b[39m\u001b[38;5;124mwins\u001b[39m\u001b[38;5;124m\"\u001b[39m]) \u001b[38;5;241m+\u001b[39m \u001b[38;5;124m\"\u001b[39m\u001b[38;5;124mW \u001b[39m\u001b[38;5;124m\"\u001b[39m \u001b[38;5;241m+\u001b[39m \u001b[38;5;28mstr\u001b[39m(rank_lol[\u001b[38;5;241m0\u001b[39m][\u001b[38;5;124m\"\u001b[39m\u001b[38;5;124mlosses\u001b[39m\u001b[38;5;124m\"\u001b[39m]) \u001b[38;5;241m+\u001b[39m \u001b[38;5;124m\"\u001b[39m\u001b[38;5;124mL\u001b[39m\u001b[38;5;124m\"\u001b[39m)\n",
      "\u001b[1;31mIndexError\u001b[0m: list index out of range"
     ]
    }
   ],
   "source": [
    "rank_lol = lol_watcher.league.by_summoner(region, player_lol[\"id\"])\n",
    "if len(rank_lol) == 2:\n",
    "    print(rank_lol[0][\"queueType\"] + \"\\n\"  + rank_lol[0][\"tier\"] + \" \" + rank_lol[0][\"rank\"] + \"\\n\" + str(rank_lol[0][\"leaguePoints\"]) + \"LP\" + \"\\n\" + str(rank_lol[0][\"wins\"]) + \"W \" + str(rank_lol[0][\"losses\"]) + \"L\" + \"\\n\")\n",
    "    print(rank_lol[1][\"queueType\"] + \"\\n\"  + rank_lol[1][\"tier\"] + \" \" + rank_lol[1][\"rank\"] + \"\\n\" + str(rank_lol[1][\"leaguePoints\"]) + \"LP\" + \"\\n\" + str(rank_lol[1][\"wins\"]) + \"W \" + str(rank_lol[1][\"losses\"]) + \"L\")\n",
    "else:\n",
    "    print(rank_lol[0][\"queueType\"] + \"\\n\"  + rank_lol[0][\"tier\"] + \" \" + rank_lol[0][\"rank\"] + \"\\n\" + str(rank_lol[0][\"leaguePoints\"]) + \"LP\" + \"\\n\" + str(rank_lol[0][\"wins\"]) + \"W \" + str(rank_lol[0][\"losses\"]) + \"L\")"
   ]
  },
  {
   "cell_type": "code",
   "execution_count": 16,
   "metadata": {},
   "outputs": [],
   "source": [
    "player_tft = tft_watcher.summoner.by_puuid(region, account[\"puuid\"])"
   ]
  },
  {
   "cell_type": "code",
   "execution_count": 17,
   "metadata": {},
   "outputs": [
    {
     "name": "stdout",
     "output_type": "stream",
     "text": [
      "[{'puuid': 'I7GCu9Lrf8KSsXv-_OuZA2xfp3wYjYJJvvX892WcCNX6MLwA7Er0MP9qykLV-a3pRVkNr3v29BRVlw', 'leagueId': '77dfc4e4-4f6e-4234-ad5e-cc27c8a50559', 'queueType': 'RANKED_TFT', 'tier': 'GOLD', 'rank': 'III', 'summonerId': 'J_xpnZCBqK1tMtImixRCCGttDIv_yo-ReB4dxQKN1nq2SuaLpeEKWKOfIQ', 'leaguePoints': 75, 'wins': 58, 'losses': 63, 'veteran': False, 'inactive': False, 'freshBlood': False, 'hotStreak': False}]\n",
      "RANKED_TFT\n",
      "GOLD III\n",
      "75LP\n",
      "58W 63L\n"
     ]
    }
   ],
   "source": [
    "rank_tft = tft_watcher.league.by_summoner(region, player_tft[\"id\"])\n",
    "print(rank_tft)\n",
    "print (rank_tft[0][\"queueType\"] + '\\n' + rank_tft[0][\"tier\"] + ' ' + rank_tft[0][\"rank\"] + \"\\n\" + str(rank_tft[0][\"leaguePoints\"]) + \"LP\" +  \"\\n\" + str(rank_tft[0][\"wins\"]) + \"W \" + str(rank_tft[0][\"losses\"]) + \"L\")"
   ]
  }
 ],
 "metadata": {
  "kernelspec": {
   "display_name": ".venv",
   "language": "python",
   "name": "python3"
  },
  "language_info": {
   "codemirror_mode": {
    "name": "ipython",
    "version": 3
   },
   "file_extension": ".py",
   "mimetype": "text/x-python",
   "name": "python",
   "nbconvert_exporter": "python",
   "pygments_lexer": "ipython3",
   "version": "3.12.0"
  }
 },
 "nbformat": 4,
 "nbformat_minor": 2
}
